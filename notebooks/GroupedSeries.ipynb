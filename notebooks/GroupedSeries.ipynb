{
 "cells": [
  {
   "cell_type": "code",
   "execution_count": 48,
   "id": "8b53492c-ebff-4192-9a60-a9bc92157bd3",
   "metadata": {},
   "outputs": [
    {
     "name": "stdout",
     "output_type": "stream",
     "text": [
      "The autoreload extension is already loaded. To reload it, use:\n",
      "  %reload_ext autoreload\n"
     ]
    }
   ],
   "source": [
    "%load_ext autoreload\n",
    "%autoreload 2\n",
    "import contex"
   ]
  },
  {
   "cell_type": "code",
   "execution_count": 61,
   "id": "57d89768-6d35-4b47-8e0d-daa47e9b70b0",
   "metadata": {},
   "outputs": [],
   "source": [
    "from series_datasets import GroupedSeriesDS\n",
    "import pandas as pd\n",
    "import numpy as np\n",
    "\n",
    "import torch\n",
    "from torch.utils.data import Dataset, DataLoader\n",
    "import torch.nn.functional as F\n",
    "import torch.nn as nn\n",
    "device = 'cuda' if torch.cuda.is_available() else 'cpu'"
   ]
  },
  {
   "cell_type": "code",
   "execution_count": 62,
   "id": "89347087-1822-4929-a2e7-3f1ca598dde3",
   "metadata": {},
   "outputs": [
    {
     "data": {
      "text/html": [
       "<div>\n",
       "<style scoped>\n",
       "    .dataframe tbody tr th:only-of-type {\n",
       "        vertical-align: middle;\n",
       "    }\n",
       "\n",
       "    .dataframe tbody tr th {\n",
       "        vertical-align: top;\n",
       "    }\n",
       "\n",
       "    .dataframe thead th {\n",
       "        text-align: right;\n",
       "    }\n",
       "</style>\n",
       "<table border=\"1\" class=\"dataframe\">\n",
       "  <thead>\n",
       "    <tr style=\"text-align: right;\">\n",
       "      <th></th>\n",
       "      <th>time_idx</th>\n",
       "      <th>volume</th>\n",
       "      <th>agency</th>\n",
       "      <th>sku</th>\n",
       "    </tr>\n",
       "  </thead>\n",
       "  <tbody>\n",
       "    <tr>\n",
       "      <th>0</th>\n",
       "      <td>0</td>\n",
       "      <td>52.272000</td>\n",
       "      <td>Agency_22</td>\n",
       "      <td>SKU_01</td>\n",
       "    </tr>\n",
       "    <tr>\n",
       "      <th>1</th>\n",
       "      <td>0</td>\n",
       "      <td>3324.269700</td>\n",
       "      <td>Agency_32</td>\n",
       "      <td>SKU_04</td>\n",
       "    </tr>\n",
       "    <tr>\n",
       "      <th>2</th>\n",
       "      <td>0</td>\n",
       "      <td>110.700000</td>\n",
       "      <td>Agency_22</td>\n",
       "      <td>SKU_02</td>\n",
       "    </tr>\n",
       "    <tr>\n",
       "      <th>3</th>\n",
       "      <td>0</td>\n",
       "      <td>0.000000</td>\n",
       "      <td>Agency_58</td>\n",
       "      <td>SKU_23</td>\n",
       "    </tr>\n",
       "    <tr>\n",
       "      <th>4</th>\n",
       "      <td>0</td>\n",
       "      <td>28.320000</td>\n",
       "      <td>Agency_48</td>\n",
       "      <td>SKU_07</td>\n",
       "    </tr>\n",
       "    <tr>\n",
       "      <th>5</th>\n",
       "      <td>0</td>\n",
       "      <td>238.538700</td>\n",
       "      <td>Agency_22</td>\n",
       "      <td>SKU_05</td>\n",
       "    </tr>\n",
       "    <tr>\n",
       "      <th>6</th>\n",
       "      <td>0</td>\n",
       "      <td>0.000000</td>\n",
       "      <td>Agency_58</td>\n",
       "      <td>SKU_17</td>\n",
       "    </tr>\n",
       "    <tr>\n",
       "      <th>7</th>\n",
       "      <td>0</td>\n",
       "      <td>126.360000</td>\n",
       "      <td>Agency_31</td>\n",
       "      <td>SKU_01</td>\n",
       "    </tr>\n",
       "    <tr>\n",
       "      <th>8</th>\n",
       "      <td>0</td>\n",
       "      <td>475.790396</td>\n",
       "      <td>Agency_48</td>\n",
       "      <td>SKU_02</td>\n",
       "    </tr>\n",
       "    <tr>\n",
       "      <th>9</th>\n",
       "      <td>0</td>\n",
       "      <td>1.150200</td>\n",
       "      <td>Agency_40</td>\n",
       "      <td>SKU_04</td>\n",
       "    </tr>\n",
       "  </tbody>\n",
       "</table>\n",
       "</div>"
      ],
      "text/plain": [
       "   time_idx       volume     agency     sku\n",
       "0         0    52.272000  Agency_22  SKU_01\n",
       "1         0  3324.269700  Agency_32  SKU_04\n",
       "2         0   110.700000  Agency_22  SKU_02\n",
       "3         0     0.000000  Agency_58  SKU_23\n",
       "4         0    28.320000  Agency_48  SKU_07\n",
       "5         0   238.538700  Agency_22  SKU_05\n",
       "6         0     0.000000  Agency_58  SKU_17\n",
       "7         0   126.360000  Agency_31  SKU_01\n",
       "8         0   475.790396  Agency_48  SKU_02\n",
       "9         0     1.150200  Agency_40  SKU_04"
      ]
     },
     "execution_count": 62,
     "metadata": {},
     "output_type": "execute_result"
    }
   ],
   "source": [
    "df = pd.read_parquet(\"../data/stallion.parquet\")\n",
    "# add time index\n",
    "df[\"time_idx\"] = df[\"date\"].dt.year * 12 + df[\"date\"].dt.month\n",
    "df[\"time_idx\"] -= df[\"time_idx\"].min()\n",
    "\n",
    "# add additional features\n",
    "df[\"month\"] = df.date.dt.month.astype(str).astype(\"category\")  # categories have be strings\n",
    "df[\"log_volume\"] = np.log(df.volume + 1e-8)\n",
    "df[\"avg_volume_by_sku\"] = df.groupby([\"time_idx\", \"sku\"], observed=True).volume.transform(\"mean\")\n",
    "df[\"avg_volume_by_agency\"] = df.groupby([\"time_idx\", \"agency\"], observed=True).volume.transform(\"mean\")\n",
    "time_idx=\"time_idx\"\n",
    "target=\"volume\"\n",
    "group_ids=[\"agency\", \"sku\"]\n",
    "df = df.sort_values(by=\"time_idx\")\n",
    "df = df[[time_idx, target] + group_ids]\n",
    "df = df.reset_index(drop=True)\n",
    "df.head(10)"
   ]
  },
  {
   "cell_type": "code",
   "execution_count": 63,
   "id": "63d3dc15-efb3-452a-81b2-77ae05f4e27f",
   "metadata": {},
   "outputs": [
    {
     "data": {
      "text/plain": [
       "21000"
      ]
     },
     "execution_count": 63,
     "metadata": {},
     "output_type": "execute_result"
    }
   ],
   "source": [
    "len(df)"
   ]
  },
  {
   "cell_type": "code",
   "execution_count": 88,
   "id": "4bf46649-cbe5-49a9-9346-2f006a22b2fb",
   "metadata": {},
   "outputs": [],
   "source": [
    "group_cols = ['agency', 'sku']\n",
    "cat_to_int = {}\n",
    "for col in group_cols:\n",
    "    cat_to_int[col] = {cat:i for i, cat in enumerate(df[col].unique())}\n",
    "    df[col+'_conv'] = df[col].map(cat_to_int[col])"
   ]
  },
  {
   "cell_type": "code",
   "execution_count": 89,
   "id": "360d75a0-3d02-4f33-a54c-0c15f86b1b1e",
   "metadata": {},
   "outputs": [
    {
     "data": {
      "text/html": [
       "<div>\n",
       "<style scoped>\n",
       "    .dataframe tbody tr th:only-of-type {\n",
       "        vertical-align: middle;\n",
       "    }\n",
       "\n",
       "    .dataframe tbody tr th {\n",
       "        vertical-align: top;\n",
       "    }\n",
       "\n",
       "    .dataframe thead th {\n",
       "        text-align: right;\n",
       "    }\n",
       "</style>\n",
       "<table border=\"1\" class=\"dataframe\">\n",
       "  <thead>\n",
       "    <tr style=\"text-align: right;\">\n",
       "      <th></th>\n",
       "      <th>time_idx</th>\n",
       "      <th>volume</th>\n",
       "      <th>agency</th>\n",
       "      <th>sku</th>\n",
       "      <th>agency_conv</th>\n",
       "      <th>sku_conv</th>\n",
       "    </tr>\n",
       "  </thead>\n",
       "  <tbody>\n",
       "    <tr>\n",
       "      <th>0</th>\n",
       "      <td>0</td>\n",
       "      <td>52.2720</td>\n",
       "      <td>Agency_22</td>\n",
       "      <td>SKU_01</td>\n",
       "      <td>0</td>\n",
       "      <td>0</td>\n",
       "    </tr>\n",
       "    <tr>\n",
       "      <th>1</th>\n",
       "      <td>0</td>\n",
       "      <td>3324.2697</td>\n",
       "      <td>Agency_32</td>\n",
       "      <td>SKU_04</td>\n",
       "      <td>1</td>\n",
       "      <td>1</td>\n",
       "    </tr>\n",
       "    <tr>\n",
       "      <th>2</th>\n",
       "      <td>0</td>\n",
       "      <td>110.7000</td>\n",
       "      <td>Agency_22</td>\n",
       "      <td>SKU_02</td>\n",
       "      <td>0</td>\n",
       "      <td>2</td>\n",
       "    </tr>\n",
       "    <tr>\n",
       "      <th>3</th>\n",
       "      <td>0</td>\n",
       "      <td>0.0000</td>\n",
       "      <td>Agency_58</td>\n",
       "      <td>SKU_23</td>\n",
       "      <td>2</td>\n",
       "      <td>3</td>\n",
       "    </tr>\n",
       "    <tr>\n",
       "      <th>4</th>\n",
       "      <td>0</td>\n",
       "      <td>28.3200</td>\n",
       "      <td>Agency_48</td>\n",
       "      <td>SKU_07</td>\n",
       "      <td>3</td>\n",
       "      <td>4</td>\n",
       "    </tr>\n",
       "  </tbody>\n",
       "</table>\n",
       "</div>"
      ],
      "text/plain": [
       "   time_idx     volume     agency     sku agency_conv sku_conv\n",
       "0         0    52.2720  Agency_22  SKU_01           0        0\n",
       "1         0  3324.2697  Agency_32  SKU_04           1        1\n",
       "2         0   110.7000  Agency_22  SKU_02           0        2\n",
       "3         0     0.0000  Agency_58  SKU_23           2        3\n",
       "4         0    28.3200  Agency_48  SKU_07           3        4"
      ]
     },
     "execution_count": 89,
     "metadata": {},
     "output_type": "execute_result"
    }
   ],
   "source": [
    "df.head()"
   ]
  },
  {
   "cell_type": "code",
   "execution_count": 98,
   "id": "5b7d8388-4e7c-4137-9298-a31b0f768830",
   "metadata": {},
   "outputs": [],
   "source": [
    "ds = GroupedSeriesDS.from_dataframe(df,\n",
    "                                    group_cols=['agency_conv', 'sku_conv'],\n",
    "                                    target_cols=['volume'],\n",
    "                                    num_covariate_cols=['time_idx'],\n",
    "                                    keep_groups=True,\n",
    "                                    lagged_window=3,\n",
    "                                    horizon=3\n",
    "                                   )"
   ]
  },
  {
   "cell_type": "code",
   "execution_count": 99,
   "id": "cf49bf23-72b9-4e88-a2f8-1e53d87ab21f",
   "metadata": {},
   "outputs": [
    {
     "data": {
      "text/plain": [
       "19250"
      ]
     },
     "execution_count": 99,
     "metadata": {},
     "output_type": "execute_result"
    }
   ],
   "source": [
    "len(ds)"
   ]
  },
  {
   "cell_type": "code",
   "execution_count": 100,
   "id": "97c54704-a71e-4b8c-a911-b397469c9086",
   "metadata": {},
   "outputs": [
    {
     "data": {
      "text/plain": [
       "{'lagged_categorical_covariates': tensor([[13,  0],\n",
       "         [13,  0],\n",
       "         [13,  0]]),\n",
       " 'categorical_covariates': tensor([[13,  0],\n",
       "         [13,  0],\n",
       "         [13,  0]]),\n",
       " 'lagged_numerical_covariates': tensor([[0.],\n",
       "         [1.],\n",
       "         [2.]], dtype=torch.float64),\n",
       " 'numerical_covariates': tensor([[3.],\n",
       "         [4.],\n",
       "         [5.]], dtype=torch.float64),\n",
       " 'lagged_targets': tensor([[ 80.6760],\n",
       "         [ 98.0640],\n",
       "         [133.7040]], dtype=torch.float64),\n",
       " 'targets': tensor([[147.3120],\n",
       "         [175.6080],\n",
       "         [180.7920]], dtype=torch.float64)}"
      ]
     },
     "execution_count": 100,
     "metadata": {},
     "output_type": "execute_result"
    }
   ],
   "source": [
    "itm = ds[0]\n",
    "itm"
   ]
  },
  {
   "cell_type": "code",
   "execution_count": 101,
   "id": "51e83f0a-07fc-4e11-ab9e-850132c6f746",
   "metadata": {},
   "outputs": [
    {
     "data": {
      "text/plain": [
       "tensor([[13,  0],\n",
       "        [13,  0],\n",
       "        [13,  0]], dtype=torch.int32)"
      ]
     },
     "execution_count": 101,
     "metadata": {},
     "output_type": "execute_result"
    }
   ],
   "source": [
    "itm['lagged_categorical_covariates'].int()"
   ]
  },
  {
   "cell_type": "code",
   "execution_count": 102,
   "id": "31c0ab76-66f7-476b-b5b4-022a3d6b80d2",
   "metadata": {},
   "outputs": [
    {
     "data": {
      "text/plain": [
       "('SKU_26', ('SKU_26', 24))"
      ]
     },
     "execution_count": 102,
     "metadata": {},
     "output_type": "execute_result"
    }
   ],
   "source": [
    "max(cat_to_int['sku'], key=cat_to_int['sku'].get), max(cat_to_int['sku'].items(), key=lambda x: x[1])"
   ]
  },
  {
   "cell_type": "code",
   "execution_count": 103,
   "id": "6677abe2-26c5-4d4a-8804-4a9fabf53a17",
   "metadata": {},
   "outputs": [
    {
     "data": {
      "text/plain": [
       "24"
      ]
     },
     "execution_count": 103,
     "metadata": {},
     "output_type": "execute_result"
    }
   ],
   "source": [
    "max(cat_to_int['sku'].values())"
   ]
  },
  {
   "cell_type": "code",
   "execution_count": 109,
   "id": "3f87d192-e724-4d92-98bb-81f9c45a2a6c",
   "metadata": {},
   "outputs": [],
   "source": [
    "itm['lagged_categorical_covariates'][:, 0] = 0"
   ]
  },
  {
   "cell_type": "code",
   "execution_count": 112,
   "id": "d66e43cb-e7cc-4fb5-8026-9e36017d854a",
   "metadata": {},
   "outputs": [
    {
     "data": {
      "text/plain": [
       "tensor([[0, 0],\n",
       "        [0, 0],\n",
       "        [0, 0]])"
      ]
     },
     "execution_count": 112,
     "metadata": {},
     "output_type": "execute_result"
    }
   ],
   "source": [
    "itm['lagged_categorical_covariates']"
   ]
  },
  {
   "cell_type": "code",
   "execution_count": 110,
   "id": "4084c68c-4850-43f8-ba33-464961a950b2",
   "metadata": {},
   "outputs": [],
   "source": [
    "emb = nn.Embedding(max(cat_to_int['sku'].values()), 2)"
   ]
  },
  {
   "cell_type": "code",
   "execution_count": 113,
   "id": "8ba3013e-ecd7-4f37-b21b-c6f05916c325",
   "metadata": {},
   "outputs": [
    {
     "data": {
      "text/plain": [
       "tensor([[[-1.1855,  1.9368],\n",
       "         [-1.1855,  1.9368]],\n",
       "\n",
       "        [[-1.1855,  1.9368],\n",
       "         [-1.1855,  1.9368]],\n",
       "\n",
       "        [[-1.1855,  1.9368],\n",
       "         [-1.1855,  1.9368]]], grad_fn=<EmbeddingBackward0>)"
      ]
     },
     "execution_count": 113,
     "metadata": {},
     "output_type": "execute_result"
    }
   ],
   "source": [
    "emb(itm['lagged_categorical_covariates'])"
   ]
  },
  {
   "cell_type": "code",
   "execution_count": null,
   "id": "0a10e1ae-b449-48d2-a387-663065bcd8cd",
   "metadata": {},
   "outputs": [],
   "source": [
    "class PoissonReg(torch.nn.Module):\n",
    "    def __init__(self, in_features, out_features):\n",
    "        super().__init__()\n",
    "        self.linear_stack = nn.Sequential(\n",
    "            nn.Linear(in_features, 200),\n",
    "            nn.Dropout(0.3),\n",
    "            nn.Linear(200, out_features),\n",
    "            nn.Softplus() # nn.ReLU()\n",
    "        )\n",
    "\n",
    "    def forward(self, x):\n",
    "        return self.linear_stack(x)\n",
    "    \n",
    "    def loss(self, x, y):\n",
    "        pred = self(x)\n",
    "        #loss = nn.MSELoss()(pred, y).mean()\n",
    "        dist = torch.distributions.Poisson(pred)\n",
    "        loss =-dist.log_prob(y).mean()\n",
    "        return loss\n",
    "    \n",
    "def train_loop(dataloader, model, optimizer):\n",
    "    size = len(dataloader.dataset)\n",
    "    loss_vals=  []\n",
    "    for batch, sample in enumerate(loader):\n",
    "        X = sample['x']\n",
    "        y = sample['y']\n",
    "        # Compute prediction and loss\n",
    "        loss = model.loss(X, y)\n",
    "        loss_vals.append(loss.item())\n",
    "        # Backpropagation\n",
    "        optimizer.zero_grad()\n",
    "        loss.backward()\n",
    "        optimizer.step()\n",
    "    return loss_vals"
   ]
  },
  {
   "cell_type": "code",
   "execution_count": null,
   "id": "577c63ea-700a-4270-a79e-36fa0cea894e",
   "metadata": {},
   "outputs": [],
   "source": [
    "loader = DataLoader(train_set, batch_size=64, shuffle=True)\n",
    "mdl = PoissonReg(train_set.in_dim, train_set.out_dim).to(device)\n",
    "optim = torch.optim.Adam(mdl.parameters(), lr=1e-3)\n",
    "\n",
    "epochs = 1\n",
    "patience = 100\n",
    "epoch_losses = []\n",
    "max_epochs = 1000\n",
    "while True:\n",
    "    # print(f\"Epoch {t+1}\\n-------------------------------\")\n",
    "    losses = train_loop(loader, mdl, optim)\n",
    "    epoch_losses.append(np.average(losses))\n",
    "    if len(epoch_losses) > patience:\n",
    "        if min(epoch_losses) < min(epoch_losses[-patience:]):\n",
    "            print('Break', epochs, min(epoch_losses), min(epoch_losses[-patience:]))\n",
    "            break\n",
    "    if epochs > max_epochs:\n",
    "        break\n",
    "    epochs +=1\n",
    "\n",
    "plt.plot(epoch_losses)\n",
    "y_pred = mdl(torch.from_numpy(X).float()).detach().numpy()\n",
    "print(y_pred.mean(), y['n_orders_created'].mean())"
   ]
  }
 ],
 "metadata": {
  "kernelspec": {
   "display_name": "Python 3 (ipykernel)",
   "language": "python",
   "name": "python3"
  },
  "language_info": {
   "codemirror_mode": {
    "name": "ipython",
    "version": 3
   },
   "file_extension": ".py",
   "mimetype": "text/x-python",
   "name": "python",
   "nbconvert_exporter": "python",
   "pygments_lexer": "ipython3",
   "version": "3.9.11"
  }
 },
 "nbformat": 4,
 "nbformat_minor": 5
}
