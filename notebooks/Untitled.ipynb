{
 "cells": [
  {
   "cell_type": "code",
   "execution_count": 1,
   "id": "745c67e5-5b13-4bc5-bc86-edbac321e510",
   "metadata": {},
   "outputs": [],
   "source": [
    "%load_ext autoreload\n",
    "%autoreload 2\n",
    "import contex"
   ]
  },
  {
   "cell_type": "code",
   "execution_count": 45,
   "id": "f4d5acd3-74e0-4a88-8bf9-c2a674ee0719",
   "metadata": {},
   "outputs": [],
   "source": [
    "from series_datasets import TimeSeriesDataset\n",
    "import torch\n",
    "from torch.utils.data import DataLoader"
   ]
  },
  {
   "cell_type": "code",
   "execution_count": 97,
   "id": "7dbe84dd-06db-4387-b264-2185e8897fa1",
   "metadata": {},
   "outputs": [],
   "source": [
    "test = [ list(x) for x in zip(range(5), range(5))]\n",
    "target = list(range(5, 10))\n",
    "ds = TimeSeriesDataset(test, target)\n",
    "\n",
    "ds = TimeSeriesDataset(test, target, horizon=2, lagged_window=2)\n",
    "# [tensor.tolist() for tensor in ds.__getitem__(0)]"
   ]
  },
  {
   "cell_type": "code",
   "execution_count": 101,
   "id": "8d0ac5ca-0165-4300-94e4-02a60d9c72a9",
   "metadata": {},
   "outputs": [
    {
     "data": {
      "text/plain": [
       "(tensor([-2, -1]), tensor([0, 1]))"
      ]
     },
     "execution_count": 101,
     "metadata": {},
     "output_type": "execute_result"
    }
   ],
   "source": [
    "torch.arange(-ds.lagg_window, 0), torch.arange(ds.horizon)"
   ]
  },
  {
   "cell_type": "code",
   "execution_count": 105,
   "id": "ead22d8a-35c5-4e24-af26-dffa561d1f0c",
   "metadata": {},
   "outputs": [
    {
     "data": {
      "text/plain": [
       "{'lagged_numerical_covariates': tensor([[0., 0.],\n",
       "         [1., 1.]]),\n",
       " 'lagged_targets': tensor([5., 6.]),\n",
       " 'covariates': tensor([[2., 2.],\n",
       "         [3., 3.]]),\n",
       " 'target': tensor([7., 8.])}"
      ]
     },
     "execution_count": 105,
     "metadata": {},
     "output_type": "execute_result"
    }
   ],
   "source": [
    "test_dict = ds.__getitem__(0)\n",
    "test_dict"
   ]
  },
  {
   "cell_type": "code",
   "execution_count": 116,
   "id": "6ba1cdd6-26ff-48c3-9148-74373281f8a9",
   "metadata": {},
   "outputs": [
    {
     "data": {
      "text/plain": [
       "(tensor([-2, -1]), torch.Size([2, 1]))"
      ]
     },
     "execution_count": 116,
     "metadata": {},
     "output_type": "execute_result"
    }
   ],
   "source": [
    "rel_idx = torch.arange(-ds.lagg_window, 0)\n",
    "rel_idx, rel_idx.view(2, -1).shape"
   ]
  },
  {
   "cell_type": "code",
   "execution_count": 117,
   "id": "b2ac8bf6-c586-4938-b386-963f11d26183",
   "metadata": {},
   "outputs": [
    {
     "data": {
      "text/plain": [
       "torch.Size([2, 2])"
      ]
     },
     "execution_count": 117,
     "metadata": {},
     "output_type": "execute_result"
    }
   ],
   "source": [
    "test_dict[\"lagged_numerical_covariates\"].shape"
   ]
  },
  {
   "cell_type": "code",
   "execution_count": 118,
   "id": "e003c1ef-cd74-496e-a64a-c7250249a530",
   "metadata": {},
   "outputs": [
    {
     "ename": "AttributeError",
     "evalue": "module 'torch' has no attribute 'append'",
     "output_type": "error",
     "traceback": [
      "\u001b[0;31m---------------------------------------------------------------------------\u001b[0m",
      "\u001b[0;31mAttributeError\u001b[0m                            Traceback (most recent call last)",
      "Input \u001b[0;32mIn [118]\u001b[0m, in \u001b[0;36m<cell line: 1>\u001b[0;34m()\u001b[0m\n\u001b[0;32m----> 1\u001b[0m \u001b[43mtorch\u001b[49m\u001b[38;5;241;43m.\u001b[39;49m\u001b[43mappend\u001b[49m([test_dict[\u001b[38;5;124m\"\u001b[39m\u001b[38;5;124mlagged_numerical_covariates\u001b[39m\u001b[38;5;124m\"\u001b[39m], rel_idx\u001b[38;5;241m.\u001b[39mview(\u001b[38;5;241m2\u001b[39m, \u001b[38;5;241m-\u001b[39m\u001b[38;5;241m1\u001b[39m)])\n",
      "\u001b[0;31mAttributeError\u001b[0m: module 'torch' has no attribute 'append'"
     ]
    }
   ],
   "source": [
    "torch.append([test_dict[\"lagged_numerical_covariates\"], rel_idx.view(2, -1)])"
   ]
  },
  {
   "cell_type": "code",
   "execution_count": 93,
   "id": "a868657b-436b-426d-b816-3d98688126e9",
   "metadata": {},
   "outputs": [
    {
     "data": {
      "text/plain": [
       "(5, 5)"
      ]
     },
     "execution_count": 93,
     "metadata": {},
     "output_type": "execute_result"
    }
   ],
   "source": [
    "len(ds.covariates), len(ds.target)"
   ]
  },
  {
   "cell_type": "code",
   "execution_count": 94,
   "id": "a5b7d5c9-3c50-4477-aac1-9773703d1349",
   "metadata": {},
   "outputs": [
    {
     "name": "stdout",
     "output_type": "stream",
     "text": [
      "{'lagged_numerical_covariates': tensor([[0., 0.],\n",
      "        [1., 1.]]), 'lagged_targets': tensor([5., 6.]), 'covariates': tensor([[2., 2.],\n",
      "        [3., 3.]]), 'target': tensor([7., 8.])}\n",
      "{'lagged_numerical_covariates': tensor([[1., 1.],\n",
      "        [2., 2.]]), 'lagged_targets': tensor([6., 7.]), 'covariates': tensor([[3., 3.],\n",
      "        [4., 4.]]), 'target': tensor([8., 9.])}\n"
     ]
    }
   ],
   "source": [
    "for n in range(len(ds)):\n",
    "    print(ds.__getitem__(n))"
   ]
  },
  {
   "cell_type": "code",
   "execution_count": 95,
   "id": "a199196f-dd37-4d81-8d40-621d4474cfc1",
   "metadata": {},
   "outputs": [
    {
     "name": "stdout",
     "output_type": "stream",
     "text": [
      "lagged_numerical_covariates tensor([[0., 0.]])\n",
      "lagged_targets tensor([5.])\n",
      "covariates tensor([[1., 1.],\n",
      "        [2., 2.]])\n",
      "target tensor([6., 7.])\n"
     ]
    }
   ],
   "source": [
    "ds = TimeSeriesDataset(test, target, horizon=2, lagged_window=1)\n",
    "for key, val in ds.__getitem__(0).items():\n",
    "    print(key, val)"
   ]
  },
  {
   "cell_type": "code",
   "execution_count": 96,
   "id": "fce7d504-b564-47c8-b09d-49e2495ad66a",
   "metadata": {},
   "outputs": [
    {
     "name": "stdout",
     "output_type": "stream",
     "text": [
      "{'lagged_numerical_covariates': tensor([[0., 0.]]), 'lagged_targets': tensor([5.]), 'covariates': tensor([[1., 1.],\n",
      "        [2., 2.]]), 'target': tensor([6., 7.])}\n"
     ]
    }
   ],
   "source": [
    "print(ds.__getitem__(0))"
   ]
  },
  {
   "cell_type": "code",
   "execution_count": 75,
   "id": "b438dac2-de12-4ec3-af84-e7a533a1a261",
   "metadata": {},
   "outputs": [
    {
     "name": "stdout",
     "output_type": "stream",
     "text": [
      "{'lagged_numerical_covariates': tensor([[0., 0.]]), 'lagged_targets': tensor([5.]), 'covariates': tensor([[1., 1.],\n",
      "        [2., 2.]]), 'target': tensor([6., 7.])}\n",
      "{'lagged_numerical_covariates': tensor([[1., 1.]]), 'lagged_targets': tensor([6.]), 'covariates': tensor([[2., 2.],\n",
      "        [3., 3.]]), 'target': tensor([7., 8.])}\n",
      "{'lagged_numerical_covariates': tensor([[2., 2.]]), 'lagged_targets': tensor([7.]), 'covariates': tensor([[3., 3.],\n",
      "        [4., 4.]]), 'target': tensor([8., 9.])}\n"
     ]
    }
   ],
   "source": [
    "for n in range(len(ds)):\n",
    "    print(ds.__getitem__(n))\n",
    "    #print([ x.numpy() for x in ds.__getitem__(n)])\n",
    "    #print([ x.tolist() for x in ds.__getitem__(n)])"
   ]
  },
  {
   "cell_type": "code",
   "execution_count": 77,
   "id": "2bd55f25-7fce-4ab8-9d50-0d9be3aa8ce5",
   "metadata": {},
   "outputs": [],
   "source": [
    "\n",
    "test = [ list(x) for x in zip(range(100), range(100))]\n",
    "target = list(range(100))\n",
    "ds = TimeSeriesDataset(test, target)\n",
    "\n",
    "ds = TimeSeriesDataset(test, target, horizon=3, lagged_window=10)\n",
    "# [tensor.tolist() for tensor in ds.__getitem__(0)]"
   ]
  },
  {
   "cell_type": "code",
   "execution_count": 78,
   "id": "cebb0f44-4249-4da1-9eec-9795b7bda739",
   "metadata": {},
   "outputs": [],
   "source": [
    "loader = DataLoader(ds, batch_size=3, shuffle=True)"
   ]
  },
  {
   "cell_type": "code",
   "execution_count": 79,
   "id": "84b2ea87-43b1-4696-a71d-95e08ea00562",
   "metadata": {},
   "outputs": [
    {
     "name": "stdout",
     "output_type": "stream",
     "text": [
      "{'lagged_numerical_covariates': tensor([[[45., 45.],\n",
      "         [46., 46.],\n",
      "         [47., 47.],\n",
      "         [48., 48.],\n",
      "         [49., 49.],\n",
      "         [50., 50.],\n",
      "         [51., 51.],\n",
      "         [52., 52.],\n",
      "         [53., 53.],\n",
      "         [54., 54.]],\n",
      "\n",
      "        [[ 4.,  4.],\n",
      "         [ 5.,  5.],\n",
      "         [ 6.,  6.],\n",
      "         [ 7.,  7.],\n",
      "         [ 8.,  8.],\n",
      "         [ 9.,  9.],\n",
      "         [10., 10.],\n",
      "         [11., 11.],\n",
      "         [12., 12.],\n",
      "         [13., 13.]],\n",
      "\n",
      "        [[64., 64.],\n",
      "         [65., 65.],\n",
      "         [66., 66.],\n",
      "         [67., 67.],\n",
      "         [68., 68.],\n",
      "         [69., 69.],\n",
      "         [70., 70.],\n",
      "         [71., 71.],\n",
      "         [72., 72.],\n",
      "         [73., 73.]]]), 'lagged_targets': tensor([[45., 46., 47., 48., 49., 50., 51., 52., 53., 54.],\n",
      "        [ 4.,  5.,  6.,  7.,  8.,  9., 10., 11., 12., 13.],\n",
      "        [64., 65., 66., 67., 68., 69., 70., 71., 72., 73.]]), 'covariates': tensor([[[55., 55.],\n",
      "         [56., 56.],\n",
      "         [57., 57.]],\n",
      "\n",
      "        [[14., 14.],\n",
      "         [15., 15.],\n",
      "         [16., 16.]],\n",
      "\n",
      "        [[74., 74.],\n",
      "         [75., 75.],\n",
      "         [76., 76.]]]), 'target': tensor([[55., 56., 57.],\n",
      "        [14., 15., 16.],\n",
      "        [74., 75., 76.]])}\n"
     ]
    }
   ],
   "source": [
    "for x in loader:\n",
    "    print(x)\n",
    "    break\n",
    "# next(iter(loader))"
   ]
  },
  {
   "cell_type": "code",
   "execution_count": null,
   "id": "e63649a4-d08e-42ee-8389-f5b9c3067648",
   "metadata": {},
   "outputs": [],
   "source": []
  }
 ],
 "metadata": {
  "kernelspec": {
   "display_name": "Python 3 (ipykernel)",
   "language": "python",
   "name": "python3"
  },
  "language_info": {
   "codemirror_mode": {
    "name": "ipython",
    "version": 3
   },
   "file_extension": ".py",
   "mimetype": "text/x-python",
   "name": "python",
   "nbconvert_exporter": "python",
   "pygments_lexer": "ipython3",
   "version": "3.9.7"
  }
 },
 "nbformat": 4,
 "nbformat_minor": 5
}
